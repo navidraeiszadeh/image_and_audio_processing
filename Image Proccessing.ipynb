{
 "cells": [
  {
   "cell_type": "code",
   "execution_count": null,
   "metadata": {},
   "outputs": [],
   "source": [
    "import numpy as np\n",
    "import matplotlib.pyplot as plt\n",
    "import cv2\n",
    "\n",
    "images = [cv2.imread('./images/andrew.jpeg'), cv2.imread('./images/bengio.jpeg'),\n",
    "          cv2.imread('./images/goodfellow.jpeg'), cv2.imread('./images/leskovec.jpeg')]\n",
    "note_image = cv2.imread('./note.png')\n",
    "\n",
    "www = cv2.imread('./images/www.png')"
   ]
  },
  {
   "cell_type": "code",
   "execution_count": 2,
   "metadata": {},
   "outputs": [
    {
     "ename": "SyntaxError",
     "evalue": "expected 'else' after 'if' expression (178837181.py, line 5)",
     "output_type": "error",
     "traceback": [
      "\u001b[1;36m  Cell \u001b[1;32mIn[2], line 5\u001b[1;36m\u001b[0m\n\u001b[1;33m    p = int((f - 1) / 2) if padding =! 'valid' else 0\u001b[0m\n\u001b[1;37m        ^\u001b[0m\n\u001b[1;31mSyntaxError\u001b[0m\u001b[1;31m:\u001b[0m expected 'else' after 'if' expression\n"
     ]
    }
   ],
   "source": [
    "def Convloution2D(img, filters, stride, padding):\n",
    "\n",
    "    f = filters[0].shape[0]\n",
    "    \n",
    "    if (padding != 'valid') :  p = int((f - 1) / 2)  #get a padding size!\n",
    "    else:\n",
    "       p = 0\n",
    "\n",
    "    # add pading to image\n",
    "    new_image_size = (img.shape[0] + 2 * p, img.shape[1] + 2 * p)\n",
    "    if img.ndim == 3: #number of dimension of an array -> if 3d\n",
    "        image_padding = np.zeros((*new_image_size, img.shape[2]))  \n",
    "    else:\n",
    "        image_padding = np.zeros(new_image_size)\n",
    "\n",
    "    for row in range(img.shape[0]):\n",
    "        for col in range(img.shape[1]): \n",
    "            image_padding[row + p, col + p] = img[row, col]   #copy image field to image\n",
    "    img = image_padding\n",
    "\n",
    "    # finding output size images\n",
    "    def out_size(img):\n",
    "        X = int((img.shape[0] + 2 * (p - f)) / stride + 1)\n",
    "        Y = int((img.shape[1] + 2 * (p - f)) / stride + 1)\n",
    "        return (X, Y)\n",
    "    output_size = out_size(img)\n",
    "    outputs = [np.zeros(output_size) for fi in filters]\n",
    "\n",
    "  \n",
    "    # Convolution\n",
    "    print(img.shape)\n",
    "    for i, output in enumerate(outputs):\n",
    "        for row in range(output_size[0]):\n",
    "            for col in range(output_size[1]):\n",
    "                output[row, col] = np.sum(\n",
    "                    filters[i] * img[(row * stride):(row * stride) + f, (col * stride):(col * stride) + f])\n",
    "        if img.ndim == 3:  #number of dimension of array\n",
    "            output = output / img.shape[2]\n",
    "\n",
    "    return outputs"
   ]
  }
 ],
 "metadata": {
  "kernelspec": {
   "display_name": "Python 3.10.5 64-bit",
   "language": "python",
   "name": "python3"
  },
  "language_info": {
   "codemirror_mode": {
    "name": "ipython",
    "version": 3
   },
   "file_extension": ".py",
   "mimetype": "text/x-python",
   "name": "python",
   "nbconvert_exporter": "python",
   "pygments_lexer": "ipython3",
   "version": "3.10.5"
  },
  "orig_nbformat": 4,
  "vscode": {
   "interpreter": {
    "hash": "8c3d4d9970fc5c09c50d9318a9c7fbf4d0159e4b28833276f5678ee22bded273"
   }
  }
 },
 "nbformat": 4,
 "nbformat_minor": 2
}
